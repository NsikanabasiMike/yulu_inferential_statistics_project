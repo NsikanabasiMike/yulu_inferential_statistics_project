{
 "cells": [
  {
   "cell_type": "markdown",
   "id": "93418288",
   "metadata": {},
   "source": [
    "## Table of Contents\n",
    "\n",
    "- [Data Exploration](#explore)\n",
    "- [ANOVA and Chisquare](#stats)\n",
    "- [Test Results and Inference](#result)\n",
    "- [Multilinear Regression](#regression)\n",
    "- [Interpretation of Regression Result](#regression_result)"
   ]
  },
  {
   "cell_type": "markdown",
   "id": "d7b00e29",
   "metadata": {},
   "source": [
    "<a id='explore'></a>\n",
    "## Data Exploration"
   ]
  },
  {
   "cell_type": "code",
   "execution_count": 1,
   "id": "162202af",
   "metadata": {},
   "outputs": [],
   "source": [
    "# Import needful libraries\n",
    "\n",
    "import matplotlib.pyplot as plt\n",
    "import seaborn as sns\n",
    "import pandas as pd\n",
    "import numpy as np\n",
    "\n",
    "from statsmodels.stats.outliers_influence import variance_inflation_factor\n",
    "from statsmodels.stats.multitest import multipletests\n",
    "import statsmodels.api as sm\n",
    "\n",
    "from scipy.stats import chi2_contingency, f_oneway\n",
    " \n",
    "from patsy import dmatrices\n",
    "import random\n",
    "\n",
    "%matplotlib inline"
   ]
  },
  {
   "cell_type": "code",
   "execution_count": 2,
   "id": "d24a2904",
   "metadata": {},
   "outputs": [],
   "source": [
    "# Set random seed to 40\n",
    "random.seed = 40"
   ]
  },
  {
   "cell_type": "code",
   "execution_count": 3,
   "id": "6ae633cd",
   "metadata": {},
   "outputs": [
    {
     "data": {
      "text/html": [
       "<div>\n",
       "<style scoped>\n",
       "    .dataframe tbody tr th:only-of-type {\n",
       "        vertical-align: middle;\n",
       "    }\n",
       "\n",
       "    .dataframe tbody tr th {\n",
       "        vertical-align: top;\n",
       "    }\n",
       "\n",
       "    .dataframe thead th {\n",
       "        text-align: right;\n",
       "    }\n",
       "</style>\n",
       "<table border=\"1\" class=\"dataframe\">\n",
       "  <thead>\n",
       "    <tr style=\"text-align: right;\">\n",
       "      <th></th>\n",
       "      <th>datetime</th>\n",
       "      <th>season</th>\n",
       "      <th>holiday</th>\n",
       "      <th>workingday</th>\n",
       "      <th>weather</th>\n",
       "      <th>temp</th>\n",
       "      <th>atemp</th>\n",
       "      <th>humidity</th>\n",
       "      <th>windspeed</th>\n",
       "      <th>casual</th>\n",
       "      <th>registered</th>\n",
       "      <th>count</th>\n",
       "    </tr>\n",
       "  </thead>\n",
       "  <tbody>\n",
       "    <tr>\n",
       "      <th>0</th>\n",
       "      <td>2011-01-01 00:00:00</td>\n",
       "      <td>1</td>\n",
       "      <td>0</td>\n",
       "      <td>0</td>\n",
       "      <td>1</td>\n",
       "      <td>9.84</td>\n",
       "      <td>14.395</td>\n",
       "      <td>81</td>\n",
       "      <td>0.0</td>\n",
       "      <td>3</td>\n",
       "      <td>13</td>\n",
       "      <td>16</td>\n",
       "    </tr>\n",
       "    <tr>\n",
       "      <th>1</th>\n",
       "      <td>2011-01-01 01:00:00</td>\n",
       "      <td>1</td>\n",
       "      <td>0</td>\n",
       "      <td>0</td>\n",
       "      <td>1</td>\n",
       "      <td>9.02</td>\n",
       "      <td>13.635</td>\n",
       "      <td>80</td>\n",
       "      <td>0.0</td>\n",
       "      <td>8</td>\n",
       "      <td>32</td>\n",
       "      <td>40</td>\n",
       "    </tr>\n",
       "    <tr>\n",
       "      <th>2</th>\n",
       "      <td>2011-01-01 02:00:00</td>\n",
       "      <td>1</td>\n",
       "      <td>0</td>\n",
       "      <td>0</td>\n",
       "      <td>1</td>\n",
       "      <td>9.02</td>\n",
       "      <td>13.635</td>\n",
       "      <td>80</td>\n",
       "      <td>0.0</td>\n",
       "      <td>5</td>\n",
       "      <td>27</td>\n",
       "      <td>32</td>\n",
       "    </tr>\n",
       "    <tr>\n",
       "      <th>3</th>\n",
       "      <td>2011-01-01 03:00:00</td>\n",
       "      <td>1</td>\n",
       "      <td>0</td>\n",
       "      <td>0</td>\n",
       "      <td>1</td>\n",
       "      <td>9.84</td>\n",
       "      <td>14.395</td>\n",
       "      <td>75</td>\n",
       "      <td>0.0</td>\n",
       "      <td>3</td>\n",
       "      <td>10</td>\n",
       "      <td>13</td>\n",
       "    </tr>\n",
       "    <tr>\n",
       "      <th>4</th>\n",
       "      <td>2011-01-01 04:00:00</td>\n",
       "      <td>1</td>\n",
       "      <td>0</td>\n",
       "      <td>0</td>\n",
       "      <td>1</td>\n",
       "      <td>9.84</td>\n",
       "      <td>14.395</td>\n",
       "      <td>75</td>\n",
       "      <td>0.0</td>\n",
       "      <td>0</td>\n",
       "      <td>1</td>\n",
       "      <td>1</td>\n",
       "    </tr>\n",
       "  </tbody>\n",
       "</table>\n",
       "</div>"
      ],
      "text/plain": [
       "              datetime  season  holiday  workingday  weather  temp   atemp  \\\n",
       "0  2011-01-01 00:00:00       1        0           0        1  9.84  14.395   \n",
       "1  2011-01-01 01:00:00       1        0           0        1  9.02  13.635   \n",
       "2  2011-01-01 02:00:00       1        0           0        1  9.02  13.635   \n",
       "3  2011-01-01 03:00:00       1        0           0        1  9.84  14.395   \n",
       "4  2011-01-01 04:00:00       1        0           0        1  9.84  14.395   \n",
       "\n",
       "   humidity  windspeed  casual  registered  count  \n",
       "0        81        0.0       3          13     16  \n",
       "1        80        0.0       8          32     40  \n",
       "2        80        0.0       5          27     32  \n",
       "3        75        0.0       3          10     13  \n",
       "4        75        0.0       0           1      1  "
      ]
     },
     "execution_count": 3,
     "metadata": {},
     "output_type": "execute_result"
    }
   ],
   "source": [
    "# Load data\n",
    "df = pd.read_csv('yulu_bike_sharing_dataset.csv')\n",
    "df.head()"
   ]
  },
  {
   "cell_type": "code",
   "execution_count": 4,
   "id": "053f3f1c",
   "metadata": {},
   "outputs": [
    {
     "name": "stdout",
     "output_type": "stream",
     "text": [
      "<class 'pandas.core.frame.DataFrame'>\n",
      "RangeIndex: 10886 entries, 0 to 10885\n",
      "Data columns (total 12 columns):\n",
      " #   Column      Non-Null Count  Dtype  \n",
      "---  ------      --------------  -----  \n",
      " 0   datetime    10886 non-null  object \n",
      " 1   season      10886 non-null  int64  \n",
      " 2   holiday     10886 non-null  int64  \n",
      " 3   workingday  10886 non-null  int64  \n",
      " 4   weather     10886 non-null  int64  \n",
      " 5   temp        10886 non-null  float64\n",
      " 6   atemp       10886 non-null  float64\n",
      " 7   humidity    10886 non-null  int64  \n",
      " 8   windspeed   10886 non-null  float64\n",
      " 9   casual      10886 non-null  int64  \n",
      " 10  registered  10886 non-null  int64  \n",
      " 11  count       10886 non-null  int64  \n",
      "dtypes: float64(3), int64(8), object(1)\n",
      "memory usage: 1020.7+ KB\n"
     ]
    }
   ],
   "source": [
    "# Explore data info\n",
    "df.info()"
   ]
  },
  {
   "cell_type": "code",
   "execution_count": 5,
   "id": "a2769a3a",
   "metadata": {
    "scrolled": true
   },
   "outputs": [
    {
     "data": {
      "text/plain": [
       "datetime      10886\n",
       "season            4\n",
       "holiday           2\n",
       "workingday        2\n",
       "weather           4\n",
       "temp             49\n",
       "atemp            60\n",
       "humidity         89\n",
       "windspeed        28\n",
       "casual          309\n",
       "registered      731\n",
       "count           822\n",
       "dtype: int64"
      ]
     },
     "execution_count": 5,
     "metadata": {},
     "output_type": "execute_result"
    }
   ],
   "source": [
    "# Number of unique values in each column\n",
    "df.nunique()"
   ]
  },
  {
   "cell_type": "markdown",
   "id": "43fd453b",
   "metadata": {},
   "source": [
    "##### Data Issues and possible fix\n",
    "1. Change datetime datatype to Datetime\n",
    "2. Drop `casual`, and `registered` columns since they add up to give `count`"
   ]
  },
  {
   "cell_type": "code",
   "execution_count": 6,
   "id": "ac0b9089",
   "metadata": {
    "scrolled": true
   },
   "outputs": [],
   "source": [
    "# Change datetime datatype to Datetime\n",
    "df.datetime = pd.to_datetime(df.datetime)"
   ]
  },
  {
   "cell_type": "code",
   "execution_count": 7,
   "id": "b9e4be1b",
   "metadata": {},
   "outputs": [],
   "source": [
    "# Drop casual, and registered columns\n",
    "df.drop(['casual', 'registered'], axis = 1, inplace=True)"
   ]
  },
  {
   "cell_type": "code",
   "execution_count": 8,
   "id": "4e3b1d90",
   "metadata": {},
   "outputs": [
    {
     "name": "stdout",
     "output_type": "stream",
     "text": [
      "<class 'pandas.core.frame.DataFrame'>\n",
      "RangeIndex: 10886 entries, 0 to 10885\n",
      "Data columns (total 10 columns):\n",
      " #   Column      Non-Null Count  Dtype         \n",
      "---  ------      --------------  -----         \n",
      " 0   datetime    10886 non-null  datetime64[ns]\n",
      " 1   season      10886 non-null  int64         \n",
      " 2   holiday     10886 non-null  int64         \n",
      " 3   workingday  10886 non-null  int64         \n",
      " 4   weather     10886 non-null  int64         \n",
      " 5   temp        10886 non-null  float64       \n",
      " 6   atemp       10886 non-null  float64       \n",
      " 7   humidity    10886 non-null  int64         \n",
      " 8   windspeed   10886 non-null  float64       \n",
      " 9   count       10886 non-null  int64         \n",
      "dtypes: datetime64[ns](1), float64(3), int64(6)\n",
      "memory usage: 850.6 KB\n"
     ]
    }
   ],
   "source": [
    "# Confirm fix implementation\n",
    "df.info()"
   ]
  },
  {
   "cell_type": "code",
   "execution_count": 9,
   "id": "d5ab5ca7",
   "metadata": {},
   "outputs": [
    {
     "data": {
      "text/html": [
       "<div>\n",
       "<style scoped>\n",
       "    .dataframe tbody tr th:only-of-type {\n",
       "        vertical-align: middle;\n",
       "    }\n",
       "\n",
       "    .dataframe tbody tr th {\n",
       "        vertical-align: top;\n",
       "    }\n",
       "\n",
       "    .dataframe thead th {\n",
       "        text-align: right;\n",
       "    }\n",
       "</style>\n",
       "<table border=\"1\" class=\"dataframe\">\n",
       "  <thead>\n",
       "    <tr style=\"text-align: right;\">\n",
       "      <th></th>\n",
       "      <th>season</th>\n",
       "      <th>holiday</th>\n",
       "      <th>workingday</th>\n",
       "      <th>weather</th>\n",
       "      <th>temp</th>\n",
       "      <th>atemp</th>\n",
       "      <th>humidity</th>\n",
       "      <th>windspeed</th>\n",
       "      <th>count</th>\n",
       "    </tr>\n",
       "  </thead>\n",
       "  <tbody>\n",
       "    <tr>\n",
       "      <th>count</th>\n",
       "      <td>10886.000000</td>\n",
       "      <td>10886.000000</td>\n",
       "      <td>10886.000000</td>\n",
       "      <td>10886.000000</td>\n",
       "      <td>10886.00000</td>\n",
       "      <td>10886.000000</td>\n",
       "      <td>10886.000000</td>\n",
       "      <td>10886.000000</td>\n",
       "      <td>10886.000000</td>\n",
       "    </tr>\n",
       "    <tr>\n",
       "      <th>mean</th>\n",
       "      <td>2.506614</td>\n",
       "      <td>0.028569</td>\n",
       "      <td>0.680875</td>\n",
       "      <td>1.418427</td>\n",
       "      <td>20.23086</td>\n",
       "      <td>23.655084</td>\n",
       "      <td>61.886460</td>\n",
       "      <td>12.799395</td>\n",
       "      <td>191.574132</td>\n",
       "    </tr>\n",
       "    <tr>\n",
       "      <th>std</th>\n",
       "      <td>1.116174</td>\n",
       "      <td>0.166599</td>\n",
       "      <td>0.466159</td>\n",
       "      <td>0.633839</td>\n",
       "      <td>7.79159</td>\n",
       "      <td>8.474601</td>\n",
       "      <td>19.245033</td>\n",
       "      <td>8.164537</td>\n",
       "      <td>181.144454</td>\n",
       "    </tr>\n",
       "    <tr>\n",
       "      <th>min</th>\n",
       "      <td>1.000000</td>\n",
       "      <td>0.000000</td>\n",
       "      <td>0.000000</td>\n",
       "      <td>1.000000</td>\n",
       "      <td>0.82000</td>\n",
       "      <td>0.760000</td>\n",
       "      <td>0.000000</td>\n",
       "      <td>0.000000</td>\n",
       "      <td>1.000000</td>\n",
       "    </tr>\n",
       "    <tr>\n",
       "      <th>25%</th>\n",
       "      <td>2.000000</td>\n",
       "      <td>0.000000</td>\n",
       "      <td>0.000000</td>\n",
       "      <td>1.000000</td>\n",
       "      <td>13.94000</td>\n",
       "      <td>16.665000</td>\n",
       "      <td>47.000000</td>\n",
       "      <td>7.001500</td>\n",
       "      <td>42.000000</td>\n",
       "    </tr>\n",
       "    <tr>\n",
       "      <th>50%</th>\n",
       "      <td>3.000000</td>\n",
       "      <td>0.000000</td>\n",
       "      <td>1.000000</td>\n",
       "      <td>1.000000</td>\n",
       "      <td>20.50000</td>\n",
       "      <td>24.240000</td>\n",
       "      <td>62.000000</td>\n",
       "      <td>12.998000</td>\n",
       "      <td>145.000000</td>\n",
       "    </tr>\n",
       "    <tr>\n",
       "      <th>75%</th>\n",
       "      <td>4.000000</td>\n",
       "      <td>0.000000</td>\n",
       "      <td>1.000000</td>\n",
       "      <td>2.000000</td>\n",
       "      <td>26.24000</td>\n",
       "      <td>31.060000</td>\n",
       "      <td>77.000000</td>\n",
       "      <td>16.997900</td>\n",
       "      <td>284.000000</td>\n",
       "    </tr>\n",
       "    <tr>\n",
       "      <th>max</th>\n",
       "      <td>4.000000</td>\n",
       "      <td>1.000000</td>\n",
       "      <td>1.000000</td>\n",
       "      <td>4.000000</td>\n",
       "      <td>41.00000</td>\n",
       "      <td>45.455000</td>\n",
       "      <td>100.000000</td>\n",
       "      <td>56.996900</td>\n",
       "      <td>977.000000</td>\n",
       "    </tr>\n",
       "  </tbody>\n",
       "</table>\n",
       "</div>"
      ],
      "text/plain": [
       "             season       holiday    workingday       weather         temp  \\\n",
       "count  10886.000000  10886.000000  10886.000000  10886.000000  10886.00000   \n",
       "mean       2.506614      0.028569      0.680875      1.418427     20.23086   \n",
       "std        1.116174      0.166599      0.466159      0.633839      7.79159   \n",
       "min        1.000000      0.000000      0.000000      1.000000      0.82000   \n",
       "25%        2.000000      0.000000      0.000000      1.000000     13.94000   \n",
       "50%        3.000000      0.000000      1.000000      1.000000     20.50000   \n",
       "75%        4.000000      0.000000      1.000000      2.000000     26.24000   \n",
       "max        4.000000      1.000000      1.000000      4.000000     41.00000   \n",
       "\n",
       "              atemp      humidity     windspeed         count  \n",
       "count  10886.000000  10886.000000  10886.000000  10886.000000  \n",
       "mean      23.655084     61.886460     12.799395    191.574132  \n",
       "std        8.474601     19.245033      8.164537    181.144454  \n",
       "min        0.760000      0.000000      0.000000      1.000000  \n",
       "25%       16.665000     47.000000      7.001500     42.000000  \n",
       "50%       24.240000     62.000000     12.998000    145.000000  \n",
       "75%       31.060000     77.000000     16.997900    284.000000  \n",
       "max       45.455000    100.000000     56.996900    977.000000  "
      ]
     },
     "execution_count": 9,
     "metadata": {},
     "output_type": "execute_result"
    }
   ],
   "source": [
    "# Quick data stats\n",
    "df.describe()"
   ]
  },
  {
   "cell_type": "code",
   "execution_count": 10,
   "id": "970832d4",
   "metadata": {
    "scrolled": true
   },
   "outputs": [
    {
     "data": {
      "image/png": "[encoded data removed]",
      "text/plain": [
       "<Figure size 1000x600 with 12 Axes>"
      ]
     },
     "metadata": {},
     "output_type": "display_data"
    }
   ],
   "source": [
    "# EDA\n",
    "df.hist(figsize= [10, 6]);\n",
    "plt.tight_layout(pad=1.0);"
   ]
  },
  {
   "cell_type": "markdown",
   "id": "1d3b33a3",
   "metadata": {},
   "source": [
    "### Result of EDA:\n",
    "1. There are four categorical columns: `season`, `holiday`, `workingday`, and `weather`\n",
    "2. `Season` and `weather` have four groups, while `workingday`, and `holiday` have two groups\n",
    "3. `temp`, `atemp`, and `humidity` are fairly uniformly distributed.\n",
    "4. `windspeed`, and the target column `count` are right-skewed."
   ]
  },
  {
   "cell_type": "markdown",
   "id": "e48e7ec4",
   "metadata": {},
   "source": [
    "<a id='stats'></a>\n",
    "## ANOVA and Chisquare \n",
    "In this project, I am tasked to make inferences on this data using statistical libraries like ANOVA and chisquare."
   ]
  },
  {
   "cell_type": "markdown",
   "id": "6cfcc17a",
   "metadata": {},
   "source": [
    "### Question 1:\n",
    "#### Is weather dependent on season (check between 2 predictor variable)\n",
    "\n",
    "To answer this question, I'll make a chisquare test.<br>\n",
    "Chisquare is used to analyse the relationship that exists between categorical variables. <br>\n",
    "> Assumptions of the test:\n",
    "\n",
    "1. `H0`: All categorical columns are independent\n",
    "2. `H1`: There exists some significant relationship between categorical columns"
   ]
  },
  {
   "cell_type": "code",
   "execution_count": 11,
   "id": "cb680695",
   "metadata": {},
   "outputs": [
    {
     "data": {
      "text/plain": [
       "1.0"
      ]
     },
     "execution_count": 11,
     "metadata": {},
     "output_type": "execute_result"
    }
   ],
   "source": [
    "# Using chisquare to check the relationship between weather and season\n",
    "stat, p_val, dof, expctd = chi2_contingency(df[['weather', 'season']])\n",
    "p_val"
   ]
  },
  {
   "cell_type": "markdown",
   "id": "28ecc40e",
   "metadata": {},
   "source": [
    "Since the p_val is higher that 0.05, we have enough evidence not to reject the null hypothesis that weather and season are independent variables  "
   ]
  },
  {
   "cell_type": "markdown",
   "id": "2ebaecaa",
   "metadata": {},
   "source": [
    "For the nex three questions, I'll use ANOVA to answer<br>\n",
    "\n",
    "A Quick ANOVA summary:\n",
    "1. ANOVA means Analysis of Variance.\n",
    "2. It is used to test the difference in population means between two or more groups\n",
    "3. `Null hypothesis (H0): population means between groups are the same`\n",
    "4. `Alternative hypothesis(H1): population means between groups are different`\n",
    "\n",
    "Main assumptions:\n",
    "\n",
    "1. Each group is independent with a normal population distribution.\n",
    "2. The distributions have the same variance.\n",
    "\n",
    "In this project, the aim is to get the variables that influence electric cycle hiring. So, `count` is the target. The target column is not normally distributed.<br>\n",
    "However, the one way ANOVA test is considered a robust test against the normality assumption. More information [here](https://statistics.laerd.com/statistical-guides/one-way-anova-statistical-guide-3.php)<br>\n",
    "\n",
    "I'll be using one way ANOVA test to investigate the difference in mean number of cycles rented  between groups.<br>\n",
    "`Type 1 error (Alpha) rate  = 0.05`"
   ]
  },
  {
   "cell_type": "markdown",
   "id": "54840ffb",
   "metadata": {},
   "source": [
    "### Question 2:\n",
    "#### Does workingday have effect on number of electric cycles rented?"
   ]
  },
  {
   "cell_type": "code",
   "execution_count": 12,
   "id": "f8c71e8e",
   "metadata": {},
   "outputs": [
    {
     "data": {
      "image/png": "[encoded data removed]",
      "text/plain": [
       "<Figure size 640x480 with 1 Axes>"
      ]
     },
     "metadata": {},
     "output_type": "display_data"
    }
   ],
   "source": [
    "# Check the mean cycle count of each workingday group\n",
    "df.groupby('workingday')['count'].mean().sort_values().plot(kind = 'bar');\n",
    "plt.ylabel('Mean cycle count');\n",
    "plt.title('Mean cycle count comparison for working and non-working days');"
   ]
  },
  {
   "cell_type": "code",
   "execution_count": 13,
   "id": "ad1ae827",
   "metadata": {},
   "outputs": [
    {
     "data": {
      "text/plain": [
       "4.505252028716285"
      ]
     },
     "execution_count": 13,
     "metadata": {},
     "output_type": "execute_result"
    }
   ],
   "source": [
    "# Observed mean difference between groups\n",
    "df.groupby('workingday')['count'].mean()[1] - df.groupby('workingday')['count'].mean()[0]"
   ]
  },
  {
   "cell_type": "markdown",
   "id": "56b47b8c",
   "metadata": {},
   "source": [
    "Remember: workingday = 1, non-workingday = 0.<br>\n",
    "1 has a slight higher mean of 4.5 than 0.<br>\n",
    "Let's check whether this difference is actual or by chance"
   ]
  },
  {
   "cell_type": "code",
   "execution_count": 14,
   "id": "7c6eaae9",
   "metadata": {},
   "outputs": [],
   "source": [
    "# Dataframe for workingday == 1\n",
    "working_day = df[df.workingday == 1]\n",
    "\n",
    "# Dataframe for workingday == 0\n",
    "no_working_day = df[df.workingday == 0]"
   ]
  },
  {
   "cell_type": "code",
   "execution_count": 15,
   "id": "efb437a0",
   "metadata": {
    "scrolled": true
   },
   "outputs": [
    {
     "data": {
      "text/plain": [
       "0.22644804226428558"
      ]
     },
     "execution_count": 15,
     "metadata": {},
     "output_type": "execute_result"
    }
   ],
   "source": [
    "# One way ANOVA test for mean difference in the number of cycles rented\n",
    "# in each workingday group\n",
    "\n",
    "t1, pval1 = f_oneway(working_day['count'], no_working_day['count'])\n",
    "pval1"
   ]
  },
  {
   "cell_type": "markdown",
   "id": "294a40db",
   "metadata": {},
   "source": [
    "### Question 3:\n",
    "#### No. of cycles rented similar or different in different weather"
   ]
  },
  {
   "cell_type": "code",
   "execution_count": 16,
   "id": "023ced1a",
   "metadata": {},
   "outputs": [
    {
     "data": {
      "image/png": "[encoded data removed]",
      "text/plain": [
       "<Figure size 640x480 with 1 Axes>"
      ]
     },
     "metadata": {},
     "output_type": "display_data"
    }
   ],
   "source": [
    "# Check the mean cycle count for each weather\n",
    "df.groupby('weather')['count'].mean().sort_values().plot(kind = 'bar');\n",
    "plt.ylabel('Mean cycle count');\n",
    "plt.title('Mean cycle count comparison for different weather');"
   ]
  },
  {
   "cell_type": "code",
   "execution_count": 17,
   "id": "59ca9764",
   "metadata": {},
   "outputs": [],
   "source": [
    "# There are 4 weather groups. Separate them into 4 Dataframes \n",
    "weather_1 = df[df.weather == 1]\n",
    "weather_2 = df[df.weather == 2]\n",
    "weather_3 = df[df.weather == 3]\n",
    "weather_4 = df[df.weather == 4]"
   ]
  },
  {
   "cell_type": "code",
   "execution_count": 18,
   "id": "70a66627",
   "metadata": {},
   "outputs": [
    {
     "data": {
      "text/plain": [
       "5.482069475935669e-42"
      ]
     },
     "execution_count": 18,
     "metadata": {},
     "output_type": "execute_result"
    }
   ],
   "source": [
    "# One way ANOVA test for mean difference in cycle count for each weather\n",
    "t2, pval2 = f_oneway(weather_1['count'], weather_2['count'], weather_3['count'], weather_4['count'])\n",
    "pval2"
   ]
  },
  {
   "cell_type": "markdown",
   "id": "bc298b3e",
   "metadata": {},
   "source": [
    "### Question 4:\n",
    "#### No. of cycles rented similar or different in different seasons"
   ]
  },
  {
   "cell_type": "code",
   "execution_count": 19,
   "id": "2bbda395",
   "metadata": {},
   "outputs": [
    {
     "data": {
      "image/png": "[encoded data removed]",
      "text/plain": [
       "<Figure size 640x480 with 1 Axes>"
      ]
     },
     "metadata": {},
     "output_type": "display_data"
    }
   ],
   "source": [
    "# Check the mean cycle count for each weather\n",
    "df.groupby('season')['count'].mean().sort_values().plot(kind = 'bar');\n",
    "plt.ylabel('Mean cycle count');\n",
    "plt.title('Mean cycle count comparison for different weather');"
   ]
  },
  {
   "cell_type": "code",
   "execution_count": 20,
   "id": "775f5163",
   "metadata": {},
   "outputs": [],
   "source": [
    "# Form dataframes for different seasons\n",
    "season_1 = df[df.season == 1]\n",
    "season_2 = df[df.season == 2]\n",
    "season_3 = df[df.season == 3]\n",
    "season_4 = df[df.season == 4]"
   ]
  },
  {
   "cell_type": "code",
   "execution_count": 21,
   "id": "a1f5b721",
   "metadata": {
    "scrolled": true
   },
   "outputs": [
    {
     "data": {
      "text/plain": [
       "6.164843386499654e-149"
      ]
     },
     "execution_count": 21,
     "metadata": {},
     "output_type": "execute_result"
    }
   ],
   "source": [
    "# One way ANOVA test for mean difference in cycle count for each season\n",
    "t3, pval3 = f_oneway(season_1['count'], season_2['count'], season_3['count'], season_4['count'])\n",
    "pval3"
   ]
  },
  {
   "cell_type": "code",
   "execution_count": 22,
   "id": "91ea1490",
   "metadata": {},
   "outputs": [],
   "source": [
    "# Form a list of p_values\n",
    "pvals = [pval1, pval2, pval3]"
   ]
  },
  {
   "cell_type": "code",
   "execution_count": 23,
   "id": "b85f01fe",
   "metadata": {},
   "outputs": [],
   "source": [
    "# 3 tests were conducted.\n",
    "# Adjust the p_values using the Bonferroni method\n",
    "p_adjusted = multipletests(pvals, alpha=0.05, method='bonferroni')"
   ]
  },
  {
   "cell_type": "code",
   "execution_count": 24,
   "id": "c82f6888",
   "metadata": {},
   "outputs": [
    {
     "data": {
      "text/plain": [
       "[0.6793441267928567, 1.6446208427807007e-41, 1.8494530159498962e-148]"
      ]
     },
     "execution_count": 24,
     "metadata": {},
     "output_type": "execute_result"
    }
   ],
   "source": [
    "p_adjusted[1].tolist()"
   ]
  },
  {
   "cell_type": "markdown",
   "id": "32b4aa96",
   "metadata": {},
   "source": [
    "<a id='result'></a>\n",
    "### Test Result\n",
    "\n",
    "1. The adjusted pval2 and pval3 are significant (<0.05), therefore we have an evidence to reject the `H0` that there is no difference in population cycle mean in different seasons and weather.<br>\n",
    "2. The adjusted pval1 is insignificant (>0.05), hence we have enough evidence not to reject the `H0` that there is no difference in population cycle mean between workingday and non-workingday. <br>\n",
    "\n",
    "### Inference\n",
    "> From the tests, we can infer that<br>\n",
    "1. Working Day has no effect on number of electric cycles rented.\n",
    "2. No. of cycles rented are different in different seasons.\n",
    "3. No. of cycles rented are different in different weather.\n",
    "4. Weather and Season variables are independent columns "
   ]
  },
  {
   "cell_type": "markdown",
   "id": "fe9a5006",
   "metadata": {},
   "source": [
    "<a id='regression'></a>\n",
    "## Multilinear Regression"
   ]
  },
  {
   "cell_type": "markdown",
   "id": "53f3036b",
   "metadata": {},
   "source": [
    "### Question 5:\n",
    "#### Which variables are significant in predicting the demand for shared electric cycles in the Indian market? How well those variables describe the electric cycle demands?\n",
    "\n",
    "To answer these questions, I'll use the _statsmodel's ols library_ to form a multilinear regression model.<br> Then I'll use the p_value of each variable to determine their importance.<br>\n",
    "\n",
    ">   #### Assumptions of ols models:\n",
    "1. H0: the slope between a predictor and the response is zero\n",
    "2. H1: the slope between a predictor and the response is not zero<br>\n",
    "\n",
    "Multilinear models usually have multi-collinearity problems, hence columns should be investigated before building the model."
   ]
  },
  {
   "cell_type": "code",
   "execution_count": 25,
   "id": "52047cec",
   "metadata": {
    "scrolled": true
   },
   "outputs": [
    {
     "data": {
      "text/html": [
       "<div>\n",
       "<style scoped>\n",
       "    .dataframe tbody tr th:only-of-type {\n",
       "        vertical-align: middle;\n",
       "    }\n",
       "\n",
       "    .dataframe tbody tr th {\n",
       "        vertical-align: top;\n",
       "    }\n",
       "\n",
       "    .dataframe thead th {\n",
       "        text-align: right;\n",
       "    }\n",
       "</style>\n",
       "<table border=\"1\" class=\"dataframe\">\n",
       "  <thead>\n",
       "    <tr style=\"text-align: right;\">\n",
       "      <th></th>\n",
       "      <th>VIF Factor</th>\n",
       "      <th>features</th>\n",
       "    </tr>\n",
       "  </thead>\n",
       "  <tbody>\n",
       "    <tr>\n",
       "      <th>0</th>\n",
       "      <td>34.029472</td>\n",
       "      <td>Intercept</td>\n",
       "    </tr>\n",
       "    <tr>\n",
       "      <th>1</th>\n",
       "      <td>1.069731</td>\n",
       "      <td>holiday</td>\n",
       "    </tr>\n",
       "    <tr>\n",
       "      <th>2</th>\n",
       "      <td>1.071196</td>\n",
       "      <td>workingday</td>\n",
       "    </tr>\n",
       "    <tr>\n",
       "      <th>3</th>\n",
       "      <td>35.516012</td>\n",
       "      <td>temp</td>\n",
       "    </tr>\n",
       "    <tr>\n",
       "      <th>4</th>\n",
       "      <td>35.550831</td>\n",
       "      <td>atemp</td>\n",
       "    </tr>\n",
       "    <tr>\n",
       "      <th>5</th>\n",
       "      <td>1.425034</td>\n",
       "      <td>humidity</td>\n",
       "    </tr>\n",
       "    <tr>\n",
       "      <th>6</th>\n",
       "      <td>1.195704</td>\n",
       "      <td>windspeed</td>\n",
       "    </tr>\n",
       "    <tr>\n",
       "      <th>7</th>\n",
       "      <td>1.137211</td>\n",
       "      <td>season</td>\n",
       "    </tr>\n",
       "    <tr>\n",
       "      <th>8</th>\n",
       "      <td>1.236150</td>\n",
       "      <td>weather</td>\n",
       "    </tr>\n",
       "  </tbody>\n",
       "</table>\n",
       "</div>"
      ],
      "text/plain": [
       "   VIF Factor    features\n",
       "0   34.029472   Intercept\n",
       "1    1.069731     holiday\n",
       "2    1.071196  workingday\n",
       "3   35.516012        temp\n",
       "4   35.550831       atemp\n",
       "5    1.425034    humidity\n",
       "6    1.195704   windspeed\n",
       "7    1.137211      season\n",
       "8    1.236150     weather"
      ]
     },
     "execution_count": 25,
     "metadata": {},
     "output_type": "execute_result"
    }
   ],
   "source": [
    "# Check for multicollinearity with Variance Inflation Factor(VIF)\n",
    "y, X = dmatrices(\n",
    "    'count ~ holiday+ workingday + temp + atemp + humidity + windspeed + season + weather', \n",
    "    df, return_type = 'dataframe'\n",
    ")\n",
    "\n",
    "vif = pd.DataFrame()\n",
    "vif[\"VIF Factor\"] = [variance_inflation_factor(X.values, i) for i in range(X.shape[1])]\n",
    "vif[\"features\"] = X.columns\n",
    "vif"
   ]
  },
  {
   "cell_type": "markdown",
   "id": "c18c1f8f",
   "metadata": {},
   "source": [
    "`atemp`, and `temp` have the highest VIF, hence drop one of them"
   ]
  },
  {
   "cell_type": "code",
   "execution_count": 26,
   "id": "1d1c2642",
   "metadata": {
    "scrolled": true
   },
   "outputs": [
    {
     "data": {
      "text/html": [
       "<div>\n",
       "<style scoped>\n",
       "    .dataframe tbody tr th:only-of-type {\n",
       "        vertical-align: middle;\n",
       "    }\n",
       "\n",
       "    .dataframe tbody tr th {\n",
       "        vertical-align: top;\n",
       "    }\n",
       "\n",
       "    .dataframe thead th {\n",
       "        text-align: right;\n",
       "    }\n",
       "</style>\n",
       "<table border=\"1\" class=\"dataframe\">\n",
       "  <thead>\n",
       "    <tr style=\"text-align: right;\">\n",
       "      <th></th>\n",
       "      <th>VIF Factor</th>\n",
       "      <th>features</th>\n",
       "    </tr>\n",
       "  </thead>\n",
       "  <tbody>\n",
       "    <tr>\n",
       "      <th>0</th>\n",
       "      <td>31.375118</td>\n",
       "      <td>Intercept</td>\n",
       "    </tr>\n",
       "    <tr>\n",
       "      <th>1</th>\n",
       "      <td>1.068094</td>\n",
       "      <td>holiday</td>\n",
       "    </tr>\n",
       "    <tr>\n",
       "      <th>2</th>\n",
       "      <td>1.070025</td>\n",
       "      <td>workingday</td>\n",
       "    </tr>\n",
       "    <tr>\n",
       "      <th>3</th>\n",
       "      <td>1.089028</td>\n",
       "      <td>temp</td>\n",
       "    </tr>\n",
       "    <tr>\n",
       "      <th>4</th>\n",
       "      <td>1.421256</td>\n",
       "      <td>humidity</td>\n",
       "    </tr>\n",
       "    <tr>\n",
       "      <th>5</th>\n",
       "      <td>1.149650</td>\n",
       "      <td>windspeed</td>\n",
       "    </tr>\n",
       "    <tr>\n",
       "      <th>6</th>\n",
       "      <td>1.136866</td>\n",
       "      <td>season</td>\n",
       "    </tr>\n",
       "    <tr>\n",
       "      <th>7</th>\n",
       "      <td>1.235251</td>\n",
       "      <td>weather</td>\n",
       "    </tr>\n",
       "  </tbody>\n",
       "</table>\n",
       "</div>"
      ],
      "text/plain": [
       "   VIF Factor    features\n",
       "0   31.375118   Intercept\n",
       "1    1.068094     holiday\n",
       "2    1.070025  workingday\n",
       "3    1.089028        temp\n",
       "4    1.421256    humidity\n",
       "5    1.149650   windspeed\n",
       "6    1.136866      season\n",
       "7    1.235251     weather"
      ]
     },
     "execution_count": 26,
     "metadata": {},
     "output_type": "execute_result"
    }
   ],
   "source": [
    "# Drop atemp and recalculate VIF\n",
    "y, X = dmatrices('count ~ holiday+ workingday + temp +  humidity + windspeed + season + weather', df, return_type = 'dataframe')\n",
    "\n",
    "\n",
    "vif = pd.DataFrame()\n",
    "vif[\"VIF Factor\"] = [variance_inflation_factor(X.values, i) for i in range(X.shape[1])]\n",
    "vif[\"features\"] = X.columns\n",
    "vif"
   ]
  },
  {
   "cell_type": "markdown",
   "id": "88314ce9",
   "metadata": {},
   "source": [
    "After dropping `atemp`, the issue is solved."
   ]
  },
  {
   "cell_type": "code",
   "execution_count": 27,
   "id": "9579e69f",
   "metadata": {},
   "outputs": [],
   "source": [
    "# Copy data to form another df_2\n",
    "df_2  = df.copy()\n",
    "\n",
    "# Target variable\n",
    "target  = df_2['count']\n",
    "\n",
    "# Dummy categorical variables (season, weather)\n",
    "df_2[['season', 'weather']] = df_2[['season', 'weather']].astype(str)\n",
    "df_2 = pd.get_dummies(df_2.drop(['datetime', 'count'], axis = 1))\n",
    "\n",
    "# Drop 'season_4', 'weather_4' as baseline\n",
    "df_2.drop(['season_4', 'weather_4'], axis=1, inplace=True)"
   ]
  },
  {
   "cell_type": "code",
   "execution_count": 28,
   "id": "3786b92f",
   "metadata": {},
   "outputs": [
    {
     "data": {
      "text/html": [
       "<div>\n",
       "<style scoped>\n",
       "    .dataframe tbody tr th:only-of-type {\n",
       "        vertical-align: middle;\n",
       "    }\n",
       "\n",
       "    .dataframe tbody tr th {\n",
       "        vertical-align: top;\n",
       "    }\n",
       "\n",
       "    .dataframe thead th {\n",
       "        text-align: right;\n",
       "    }\n",
       "</style>\n",
       "<table border=\"1\" class=\"dataframe\">\n",
       "  <thead>\n",
       "    <tr style=\"text-align: right;\">\n",
       "      <th></th>\n",
       "      <th>holiday</th>\n",
       "      <th>workingday</th>\n",
       "      <th>temp</th>\n",
       "      <th>atemp</th>\n",
       "      <th>humidity</th>\n",
       "      <th>windspeed</th>\n",
       "      <th>season_1</th>\n",
       "      <th>season_2</th>\n",
       "      <th>season_3</th>\n",
       "      <th>weather_1</th>\n",
       "      <th>weather_2</th>\n",
       "      <th>weather_3</th>\n",
       "    </tr>\n",
       "  </thead>\n",
       "  <tbody>\n",
       "    <tr>\n",
       "      <th>0</th>\n",
       "      <td>0</td>\n",
       "      <td>0</td>\n",
       "      <td>9.84</td>\n",
       "      <td>14.395</td>\n",
       "      <td>81</td>\n",
       "      <td>0.0</td>\n",
       "      <td>1</td>\n",
       "      <td>0</td>\n",
       "      <td>0</td>\n",
       "      <td>1</td>\n",
       "      <td>0</td>\n",
       "      <td>0</td>\n",
       "    </tr>\n",
       "    <tr>\n",
       "      <th>1</th>\n",
       "      <td>0</td>\n",
       "      <td>0</td>\n",
       "      <td>9.02</td>\n",
       "      <td>13.635</td>\n",
       "      <td>80</td>\n",
       "      <td>0.0</td>\n",
       "      <td>1</td>\n",
       "      <td>0</td>\n",
       "      <td>0</td>\n",
       "      <td>1</td>\n",
       "      <td>0</td>\n",
       "      <td>0</td>\n",
       "    </tr>\n",
       "  </tbody>\n",
       "</table>\n",
       "</div>"
      ],
      "text/plain": [
       "   holiday  workingday  temp   atemp  humidity  windspeed  season_1  season_2  \\\n",
       "0        0           0  9.84  14.395        81        0.0         1         0   \n",
       "1        0           0  9.02  13.635        80        0.0         1         0   \n",
       "\n",
       "   season_3  weather_1  weather_2  weather_3  \n",
       "0         0          1          0          0  \n",
       "1         0          1          0          0  "
      ]
     },
     "execution_count": 28,
     "metadata": {},
     "output_type": "execute_result"
    }
   ],
   "source": [
    "# Preview df_2\n",
    "df_2.head(2)"
   ]
  },
  {
   "cell_type": "code",
   "execution_count": 29,
   "id": "66492ce1",
   "metadata": {
    "scrolled": true
   },
   "outputs": [],
   "source": [
    "# Add intercept to df_2\n",
    "df_2['intercept'] = 1"
   ]
  },
  {
   "cell_type": "code",
   "execution_count": 30,
   "id": "7b026e19",
   "metadata": {},
   "outputs": [
    {
     "data": {
      "text/html": [
       "<table class=\"simpletable\">\n",
       "<caption>OLS Regression Results</caption>\n",
       "<tr>\n",
       "  <th>Dep. Variable:</th>          <td>count</td>      <th>  R-squared:         </th> <td>   0.276</td> \n",
       "</tr>\n",
       "<tr>\n",
       "  <th>Model:</th>                   <td>OLS</td>       <th>  Adj. R-squared:    </th> <td>   0.276</td> \n",
       "</tr>\n",
       "<tr>\n",
       "  <th>Method:</th>             <td>Least Squares</td>  <th>  F-statistic:       </th> <td>   377.4</td> \n",
       "</tr>\n",
       "<tr>\n",
       "  <th>Date:</th>             <td>Sat, 03 Aug 2024</td> <th>  Prob (F-statistic):</th>  <td>  0.00</td>  \n",
       "</tr>\n",
       "<tr>\n",
       "  <th>Time:</th>                 <td>22:04:38</td>     <th>  Log-Likelihood:    </th> <td> -70285.</td> \n",
       "</tr>\n",
       "<tr>\n",
       "  <th>No. Observations:</th>      <td> 10886</td>      <th>  AIC:               </th> <td>1.406e+05</td>\n",
       "</tr>\n",
       "<tr>\n",
       "  <th>Df Residuals:</th>          <td> 10874</td>      <th>  BIC:               </th> <td>1.407e+05</td>\n",
       "</tr>\n",
       "<tr>\n",
       "  <th>Df Model:</th>              <td>    11</td>      <th>                     </th>     <td> </td>    \n",
       "</tr>\n",
       "<tr>\n",
       "  <th>Covariance Type:</th>      <td>nonrobust</td>    <th>                     </th>     <td> </td>    \n",
       "</tr>\n",
       "</table>\n",
       "<table class=\"simpletable\">\n",
       "<tr>\n",
       "       <td></td>         <th>coef</th>     <th>std err</th>      <th>t</th>      <th>P>|t|</th>  <th>[0.025</th>    <th>0.975]</th>  \n",
       "</tr>\n",
       "<tr>\n",
       "  <th>holiday</th>    <td>  -10.3224</td> <td>    9.173</td> <td>   -1.125</td> <td> 0.260</td> <td>  -28.304</td> <td>    7.659</td>\n",
       "</tr>\n",
       "<tr>\n",
       "  <th>workingday</th> <td>   -3.0296</td> <td>    3.281</td> <td>   -0.923</td> <td> 0.356</td> <td>   -9.461</td> <td>    3.402</td>\n",
       "</tr>\n",
       "<tr>\n",
       "  <th>temp</th>       <td>   11.1490</td> <td>    0.319</td> <td>   34.931</td> <td> 0.000</td> <td>   10.523</td> <td>   11.775</td>\n",
       "</tr>\n",
       "<tr>\n",
       "  <th>humidity</th>   <td>   -2.7921</td> <td>    0.093</td> <td>  -29.919</td> <td> 0.000</td> <td>   -2.975</td> <td>   -2.609</td>\n",
       "</tr>\n",
       "<tr>\n",
       "  <th>windspeed</th>  <td>    0.4888</td> <td>    0.195</td> <td>    2.511</td> <td> 0.012</td> <td>    0.107</td> <td>    0.870</td>\n",
       "</tr>\n",
       "<tr>\n",
       "  <th>season_1</th>   <td>  -65.5223</td> <td>    4.540</td> <td>  -14.431</td> <td> 0.000</td> <td>  -74.422</td> <td>  -56.622</td>\n",
       "</tr>\n",
       "<tr>\n",
       "  <th>season_2</th>   <td>  -67.9034</td> <td>    4.594</td> <td>  -14.780</td> <td> 0.000</td> <td>  -76.909</td> <td>  -58.898</td>\n",
       "</tr>\n",
       "<tr>\n",
       "  <th>season_3</th>   <td> -104.6226</td> <td>    5.683</td> <td>  -18.410</td> <td> 0.000</td> <td> -115.762</td> <td>  -93.483</td>\n",
       "</tr>\n",
       "<tr>\n",
       "  <th>weather_1</th>  <td> -186.7770</td> <td>  154.248</td> <td>   -1.211</td> <td> 0.226</td> <td> -489.131</td> <td>  115.577</td>\n",
       "</tr>\n",
       "<tr>\n",
       "  <th>weather_2</th>  <td> -172.8634</td> <td>  154.248</td> <td>   -1.121</td> <td> 0.262</td> <td> -475.218</td> <td>  129.492</td>\n",
       "</tr>\n",
       "<tr>\n",
       "  <th>weather_3</th>  <td> -196.6991</td> <td>  154.307</td> <td>   -1.275</td> <td> 0.202</td> <td> -499.169</td> <td>  105.771</td>\n",
       "</tr>\n",
       "<tr>\n",
       "  <th>intercept</th>  <td>  378.3146</td> <td>  154.637</td> <td>    2.446</td> <td> 0.014</td> <td>   75.198</td> <td>  681.431</td>\n",
       "</tr>\n",
       "</table>\n",
       "<table class=\"simpletable\">\n",
       "<tr>\n",
       "  <th>Omnibus:</th>       <td>2167.629</td> <th>  Durbin-Watson:     </th> <td>   0.442</td>\n",
       "</tr>\n",
       "<tr>\n",
       "  <th>Prob(Omnibus):</th>  <td> 0.000</td>  <th>  Jarque-Bera (JB):  </th> <td>4250.528</td>\n",
       "</tr>\n",
       "<tr>\n",
       "  <th>Skew:</th>           <td> 1.207</td>  <th>  Prob(JB):          </th> <td>    0.00</td>\n",
       "</tr>\n",
       "<tr>\n",
       "  <th>Kurtosis:</th>       <td> 4.883</td>  <th>  Cond. No.          </th> <td>1.43e+04</td>\n",
       "</tr>\n",
       "</table><br/><br/>Notes:<br/>[1] Standard Errors assume that the covariance matrix of the errors is correctly specified.<br/>[2] The condition number is large, 1.43e+04. This might indicate that there are<br/>strong multicollinearity or other numerical problems."
      ],
      "text/plain": [
       "<class 'statsmodels.iolib.summary.Summary'>\n",
       "\"\"\"\n",
       "                            OLS Regression Results                            \n",
       "==============================================================================\n",
       "Dep. Variable:                  count   R-squared:                       0.276\n",
       "Model:                            OLS   Adj. R-squared:                  0.276\n",
       "Method:                 Least Squares   F-statistic:                     377.4\n",
       "Date:                Sat, 03 Aug 2024   Prob (F-statistic):               0.00\n",
       "Time:                        22:04:38   Log-Likelihood:                -70285.\n",
       "No. Observations:               10886   AIC:                         1.406e+05\n",
       "Df Residuals:                   10874   BIC:                         1.407e+05\n",
       "Df Model:                          11                                         \n",
       "Covariance Type:            nonrobust                                         \n",
       "==============================================================================\n",
       "                 coef    std err          t      P>|t|      [0.025      0.975]\n",
       "------------------------------------------------------------------------------\n",
       "holiday      -10.3224      9.173     -1.125      0.260     -28.304       7.659\n",
       "workingday    -3.0296      3.281     -0.923      0.356      -9.461       3.402\n",
       "temp          11.1490      0.319     34.931      0.000      10.523      11.775\n",
       "humidity      -2.7921      0.093    -29.919      0.000      -2.975      -2.609\n",
       "windspeed      0.4888      0.195      2.511      0.012       0.107       0.870\n",
       "season_1     -65.5223      4.540    -14.431      0.000     -74.422     -56.622\n",
       "season_2     -67.9034      4.594    -14.780      0.000     -76.909     -58.898\n",
       "season_3    -104.6226      5.683    -18.410      0.000    -115.762     -93.483\n",
       "weather_1   -186.7770    154.248     -1.211      0.226    -489.131     115.577\n",
       "weather_2   -172.8634    154.248     -1.121      0.262    -475.218     129.492\n",
       "weather_3   -196.6991    154.307     -1.275      0.202    -499.169     105.771\n",
       "intercept    378.3146    154.637      2.446      0.014      75.198     681.431\n",
       "==============================================================================\n",
       "Omnibus:                     2167.629   Durbin-Watson:                   0.442\n",
       "Prob(Omnibus):                  0.000   Jarque-Bera (JB):             4250.528\n",
       "Skew:                           1.207   Prob(JB):                         0.00\n",
       "Kurtosis:                       4.883   Cond. No.                     1.43e+04\n",
       "==============================================================================\n",
       "\n",
       "Notes:\n",
       "[1] Standard Errors assume that the covariance matrix of the errors is correctly specified.\n",
       "[2] The condition number is large, 1.43e+04. This might indicate that there are\n",
       "strong multicollinearity or other numerical problems.\n",
       "\"\"\""
      ]
     },
     "execution_count": 30,
     "metadata": {},
     "output_type": "execute_result"
    }
   ],
   "source": [
    "# Build a linear model with ols\n",
    "lm = sm.OLS(df['count'], df_2.drop('atemp', axis = 1))\n",
    "\n",
    "# Fit the model\n",
    "results = lm.fit()\n",
    "# Check the summary\n",
    "results.summary()"
   ]
  },
  {
   "cell_type": "markdown",
   "id": "a306761f",
   "metadata": {},
   "source": [
    "#### Summary of Result\n",
    "1. R-Squared value is 27%, although not reliable as we are dealing with multilinear model.\n",
    "2. The p_values: (p>|t|) of `holiday`, `workingday`, `weather` > 0.05. Therefore, we cannot reject `H0`. These columns are not helpful in predicting the response.\n",
    "3. The rest of the columns are < 0.05. Therefore, we can reject `H0` as the appear to be helpful in predicting the response."
   ]
  },
  {
   "cell_type": "code",
   "execution_count": 31,
   "id": "05cd3eff",
   "metadata": {},
   "outputs": [
    {
     "data": {
      "text/html": [
       "<table class=\"simpletable\">\n",
       "<caption>OLS Regression Results</caption>\n",
       "<tr>\n",
       "  <th>Dep. Variable:</th>          <td>count</td>      <th>  R-squared:         </th> <td>   0.275</td> \n",
       "</tr>\n",
       "<tr>\n",
       "  <th>Model:</th>                   <td>OLS</td>       <th>  Adj. R-squared:    </th> <td>   0.274</td> \n",
       "</tr>\n",
       "<tr>\n",
       "  <th>Method:</th>             <td>Least Squares</td>  <th>  F-statistic:       </th> <td>   686.3</td> \n",
       "</tr>\n",
       "<tr>\n",
       "  <th>Date:</th>             <td>Sat, 03 Aug 2024</td> <th>  Prob (F-statistic):</th>  <td>  0.00</td>  \n",
       "</tr>\n",
       "<tr>\n",
       "  <th>Time:</th>                 <td>22:04:38</td>     <th>  Log-Likelihood:    </th> <td> -70298.</td> \n",
       "</tr>\n",
       "<tr>\n",
       "  <th>No. Observations:</th>      <td> 10886</td>      <th>  AIC:               </th> <td>1.406e+05</td>\n",
       "</tr>\n",
       "<tr>\n",
       "  <th>Df Residuals:</th>          <td> 10879</td>      <th>  BIC:               </th> <td>1.407e+05</td>\n",
       "</tr>\n",
       "<tr>\n",
       "  <th>Df Model:</th>              <td>     6</td>      <th>                     </th>     <td> </td>    \n",
       "</tr>\n",
       "<tr>\n",
       "  <th>Covariance Type:</th>      <td>nonrobust</td>    <th>                     </th>     <td> </td>    \n",
       "</tr>\n",
       "</table>\n",
       "<table class=\"simpletable\">\n",
       "<tr>\n",
       "      <td></td>         <th>coef</th>     <th>std err</th>      <th>t</th>      <th>P>|t|</th>  <th>[0.025</th>    <th>0.975]</th>  \n",
       "</tr>\n",
       "<tr>\n",
       "  <th>temp</th>      <td>   11.1636</td> <td>    0.319</td> <td>   35.045</td> <td> 0.000</td> <td>   10.539</td> <td>   11.788</td>\n",
       "</tr>\n",
       "<tr>\n",
       "  <th>humidity</th>  <td>   -2.7635</td> <td>    0.084</td> <td>  -32.912</td> <td> 0.000</td> <td>   -2.928</td> <td>   -2.599</td>\n",
       "</tr>\n",
       "<tr>\n",
       "  <th>windspeed</th> <td>    0.4499</td> <td>    0.192</td> <td>    2.339</td> <td> 0.019</td> <td>    0.073</td> <td>    0.827</td>\n",
       "</tr>\n",
       "<tr>\n",
       "  <th>season_1</th>  <td>  -65.2879</td> <td>    4.533</td> <td>  -14.404</td> <td> 0.000</td> <td>  -74.173</td> <td>  -56.403</td>\n",
       "</tr>\n",
       "<tr>\n",
       "  <th>season_2</th>  <td>  -68.1446</td> <td>    4.594</td> <td>  -14.832</td> <td> 0.000</td> <td>  -77.150</td> <td>  -59.139</td>\n",
       "</tr>\n",
       "<tr>\n",
       "  <th>season_3</th>  <td> -105.6846</td> <td>    5.669</td> <td>  -18.641</td> <td> 0.000</td> <td> -116.797</td> <td>  -94.572</td>\n",
       "</tr>\n",
       "<tr>\n",
       "  <th>intercept</th> <td>  190.7391</td> <td>    9.569</td> <td>   19.934</td> <td> 0.000</td> <td>  171.983</td> <td>  209.495</td>\n",
       "</tr>\n",
       "</table>\n",
       "<table class=\"simpletable\">\n",
       "<tr>\n",
       "  <th>Omnibus:</th>       <td>2156.946</td> <th>  Durbin-Watson:     </th> <td>   0.439</td>\n",
       "</tr>\n",
       "<tr>\n",
       "  <th>Prob(Omnibus):</th>  <td> 0.000</td>  <th>  Jarque-Bera (JB):  </th> <td>4205.205</td>\n",
       "</tr>\n",
       "<tr>\n",
       "  <th>Skew:</th>           <td> 1.204</td>  <th>  Prob(JB):          </th> <td>    0.00</td>\n",
       "</tr>\n",
       "<tr>\n",
       "  <th>Kurtosis:</th>       <td> 4.863</td>  <th>  Cond. No.          </th> <td>    465.</td>\n",
       "</tr>\n",
       "</table><br/><br/>Notes:<br/>[1] Standard Errors assume that the covariance matrix of the errors is correctly specified."
      ],
      "text/plain": [
       "<class 'statsmodels.iolib.summary.Summary'>\n",
       "\"\"\"\n",
       "                            OLS Regression Results                            \n",
       "==============================================================================\n",
       "Dep. Variable:                  count   R-squared:                       0.275\n",
       "Model:                            OLS   Adj. R-squared:                  0.274\n",
       "Method:                 Least Squares   F-statistic:                     686.3\n",
       "Date:                Sat, 03 Aug 2024   Prob (F-statistic):               0.00\n",
       "Time:                        22:04:38   Log-Likelihood:                -70298.\n",
       "No. Observations:               10886   AIC:                         1.406e+05\n",
       "Df Residuals:                   10879   BIC:                         1.407e+05\n",
       "Df Model:                           6                                         \n",
       "Covariance Type:            nonrobust                                         \n",
       "==============================================================================\n",
       "                 coef    std err          t      P>|t|      [0.025      0.975]\n",
       "------------------------------------------------------------------------------\n",
       "temp          11.1636      0.319     35.045      0.000      10.539      11.788\n",
       "humidity      -2.7635      0.084    -32.912      0.000      -2.928      -2.599\n",
       "windspeed      0.4499      0.192      2.339      0.019       0.073       0.827\n",
       "season_1     -65.2879      4.533    -14.404      0.000     -74.173     -56.403\n",
       "season_2     -68.1446      4.594    -14.832      0.000     -77.150     -59.139\n",
       "season_3    -105.6846      5.669    -18.641      0.000    -116.797     -94.572\n",
       "intercept    190.7391      9.569     19.934      0.000     171.983     209.495\n",
       "==============================================================================\n",
       "Omnibus:                     2156.946   Durbin-Watson:                   0.439\n",
       "Prob(Omnibus):                  0.000   Jarque-Bera (JB):             4205.205\n",
       "Skew:                           1.204   Prob(JB):                         0.00\n",
       "Kurtosis:                       4.863   Cond. No.                         465.\n",
       "==============================================================================\n",
       "\n",
       "Notes:\n",
       "[1] Standard Errors assume that the covariance matrix of the errors is correctly specified.\n",
       "\"\"\""
      ]
     },
     "execution_count": 31,
     "metadata": {},
     "output_type": "execute_result"
    }
   ],
   "source": [
    "# Drop holiday, workingday,and weather and rebuild the model\n",
    "lm_2 = sm.OLS(df['count'], df_2.drop(['atemp', 'workingday', 'holiday', 'weather_1', 'weather_2', 'weather_3'], axis = 1))\n",
    "results_2 = lm_2.fit()\n",
    "results_2.summary()"
   ]
  },
  {
   "cell_type": "markdown",
   "id": "dbfad69b",
   "metadata": {},
   "source": [
    "<a id='regression_result'></a>\n",
    "#### Interpretation of Regression Result\n",
    "1. After removing the unhelpful columns, it is observed that R-squared remains at 27%\n",
    "2. In season_4, the number of electric cycles hired is predicted to be 190.7, holding all other variables constant\n",
    "3. For every one unit rise in temp, the number of electric cycles hired is predicted to be 11 more than that in season_4, holding all other variables constant\n",
    "4. For every one unit rise in windspeed, the number of electric cycles hired is predicted to be 0.4 more than that in season_4, holding all other variables constant\n",
    "5. The number of electric cycles hired in season_1 is predicted to be 65.3 less than that in season_4, holding all other variables constant\n",
    "6. The number of electric cycles hired in season_2 is predicted to be 68.1 less than that in season_4, holding all other variables constant.\n",
    "7. The number of electric cycles hired in season_3 is predicted to be 105.6 less than that in season_4, holding all other variables constant."
   ]
  }
 ],
 "metadata": {
  "kernelspec": {
   "display_name": "Python 3 (ipykernel)",
   "language": "python",
   "name": "python3"
  },
  "language_info": {
   "codemirror_mode": {
    "name": "ipython",
    "version": 3
   },
   "file_extension": ".py",
   "mimetype": "text/x-python",
   "name": "python",
   "nbconvert_exporter": "python",
   "pygments_lexer": "ipython3",
   "version": "3.8.13"
  }
 },
 "nbformat": 4,
 "nbformat_minor": 5
}
